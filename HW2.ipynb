{
 "cells": [
  {
   "cell_type": "code",
   "execution_count": 3,
   "id": "29375a31",
   "metadata": {},
   "outputs": [
    {
     "name": "stdout",
     "output_type": "stream",
     "text": [
      "Requirement already satisfied: scikit-learn in /Users/samanvayms/opt/anaconda3/lib/python3.9/site-packages (1.2.1)\n",
      "Requirement already satisfied: scipy>=1.3.2 in /Users/samanvayms/opt/anaconda3/lib/python3.9/site-packages (from scikit-learn) (1.9.2)\n",
      "Requirement already satisfied: joblib>=1.1.1 in /Users/samanvayms/opt/anaconda3/lib/python3.9/site-packages (from scikit-learn) (1.2.0)\n",
      "Requirement already satisfied: threadpoolctl>=2.0.0 in /Users/samanvayms/opt/anaconda3/lib/python3.9/site-packages (from scikit-learn) (3.1.0)\n",
      "Requirement already satisfied: numpy>=1.17.3 in /Users/samanvayms/opt/anaconda3/lib/python3.9/site-packages (from scikit-learn) (1.23.5)\n"
     ]
    }
   ],
   "source": [
    "!pip install scikit-learn"
   ]
  },
  {
   "cell_type": "code",
   "execution_count": 4,
   "id": "1c12e28d",
   "metadata": {},
   "outputs": [],
   "source": [
    "import pandas as pd\n",
    "import numpy as np\n",
    "import matplotlib.pyplot as plt"
   ]
  },
  {
   "cell_type": "code",
   "execution_count": 5,
   "id": "f67396b6",
   "metadata": {},
   "outputs": [
    {
     "data": {
      "text/html": [
       "<div>\n",
       "<style scoped>\n",
       "    .dataframe tbody tr th:only-of-type {\n",
       "        vertical-align: middle;\n",
       "    }\n",
       "\n",
       "    .dataframe tbody tr th {\n",
       "        vertical-align: top;\n",
       "    }\n",
       "\n",
       "    .dataframe thead th {\n",
       "        text-align: right;\n",
       "    }\n",
       "</style>\n",
       "<table border=\"1\" class=\"dataframe\">\n",
       "  <thead>\n",
       "    <tr style=\"text-align: right;\">\n",
       "      <th></th>\n",
       "      <th>rowindex</th>\n",
       "      <th>contract</th>\n",
       "      <th>price_crossing</th>\n",
       "      <th>price_distortion</th>\n",
       "      <th>roll_start</th>\n",
       "      <th>roll_heart</th>\n",
       "      <th>near_minus_next</th>\n",
       "      <th>ctd_last_first</th>\n",
       "      <th>ctd1_percent</th>\n",
       "      <th>delivery_cost</th>\n",
       "      <th>delivery_ratio</th>\n",
       "      <th>squeeze</th>\n",
       "    </tr>\n",
       "  </thead>\n",
       "  <tbody>\n",
       "    <tr>\n",
       "      <th>0</th>\n",
       "      <td>1</td>\n",
       "      <td>TUZ92 Comdty</td>\n",
       "      <td>0.157659</td>\n",
       "      <td>0.900783</td>\n",
       "      <td>0.016053</td>\n",
       "      <td>1.000000</td>\n",
       "      <td>1.000000</td>\n",
       "      <td>0.902811</td>\n",
       "      <td>1.000000</td>\n",
       "      <td>0.010743</td>\n",
       "      <td>0.099313</td>\n",
       "      <td>True</td>\n",
       "    </tr>\n",
       "    <tr>\n",
       "      <th>1</th>\n",
       "      <td>2</td>\n",
       "      <td>TUH93 Comdty</td>\n",
       "      <td>0.018588</td>\n",
       "      <td>1.000000</td>\n",
       "      <td>1.000000</td>\n",
       "      <td>0.084724</td>\n",
       "      <td>0.778847</td>\n",
       "      <td>1.000000</td>\n",
       "      <td>0.136069</td>\n",
       "      <td>0.154116</td>\n",
       "      <td>1.000000</td>\n",
       "      <td>False</td>\n",
       "    </tr>\n",
       "    <tr>\n",
       "      <th>2</th>\n",
       "      <td>3</td>\n",
       "      <td>TUM93 Comdty</td>\n",
       "      <td>0.035755</td>\n",
       "      <td>0.045987</td>\n",
       "      <td>0.673543</td>\n",
       "      <td>1.000000</td>\n",
       "      <td>0.027689</td>\n",
       "      <td>0.067889</td>\n",
       "      <td>0.007696</td>\n",
       "      <td>0.034743</td>\n",
       "      <td>0.171676</td>\n",
       "      <td>False</td>\n",
       "    </tr>\n",
       "    <tr>\n",
       "      <th>3</th>\n",
       "      <td>4</td>\n",
       "      <td>TUU93 Comdty</td>\n",
       "      <td>0.663832</td>\n",
       "      <td>1.000000</td>\n",
       "      <td>0.063057</td>\n",
       "      <td>0.188899</td>\n",
       "      <td>0.064454</td>\n",
       "      <td>0.005742</td>\n",
       "      <td>0.166102</td>\n",
       "      <td>0.956668</td>\n",
       "      <td>1.000000</td>\n",
       "      <td>True</td>\n",
       "    </tr>\n",
       "    <tr>\n",
       "      <th>4</th>\n",
       "      <td>5</td>\n",
       "      <td>TUZ93 Comdty</td>\n",
       "      <td>0.109678</td>\n",
       "      <td>0.113601</td>\n",
       "      <td>0.726244</td>\n",
       "      <td>1.000000</td>\n",
       "      <td>1.000000</td>\n",
       "      <td>1.000000</td>\n",
       "      <td>1.000000</td>\n",
       "      <td>0.105467</td>\n",
       "      <td>0.145025</td>\n",
       "      <td>False</td>\n",
       "    </tr>\n",
       "    <tr>\n",
       "      <th>...</th>\n",
       "      <td>...</td>\n",
       "      <td>...</td>\n",
       "      <td>...</td>\n",
       "      <td>...</td>\n",
       "      <td>...</td>\n",
       "      <td>...</td>\n",
       "      <td>...</td>\n",
       "      <td>...</td>\n",
       "      <td>...</td>\n",
       "      <td>...</td>\n",
       "      <td>...</td>\n",
       "      <td>...</td>\n",
       "    </tr>\n",
       "    <tr>\n",
       "      <th>895</th>\n",
       "      <td>896</td>\n",
       "      <td>USU96 Comdty</td>\n",
       "      <td>0.850482</td>\n",
       "      <td>0.106219</td>\n",
       "      <td>1.000000</td>\n",
       "      <td>1.000000</td>\n",
       "      <td>0.143183</td>\n",
       "      <td>0.039113</td>\n",
       "      <td>1.000000</td>\n",
       "      <td>0.942108</td>\n",
       "      <td>0.879261</td>\n",
       "      <td>False</td>\n",
       "    </tr>\n",
       "    <tr>\n",
       "      <th>896</th>\n",
       "      <td>897</td>\n",
       "      <td>USZ96 Comdty</td>\n",
       "      <td>1.000000</td>\n",
       "      <td>0.048638</td>\n",
       "      <td>0.193619</td>\n",
       "      <td>1.000000</td>\n",
       "      <td>0.889959</td>\n",
       "      <td>0.129162</td>\n",
       "      <td>0.137239</td>\n",
       "      <td>1.000000</td>\n",
       "      <td>1.000000</td>\n",
       "      <td>False</td>\n",
       "    </tr>\n",
       "    <tr>\n",
       "      <th>897</th>\n",
       "      <td>898</td>\n",
       "      <td>USH97 Comdty</td>\n",
       "      <td>0.914224</td>\n",
       "      <td>0.080241</td>\n",
       "      <td>1.000000</td>\n",
       "      <td>0.000310</td>\n",
       "      <td>0.010017</td>\n",
       "      <td>0.095047</td>\n",
       "      <td>1.000000</td>\n",
       "      <td>0.179392</td>\n",
       "      <td>0.973741</td>\n",
       "      <td>True</td>\n",
       "    </tr>\n",
       "    <tr>\n",
       "      <th>898</th>\n",
       "      <td>899</td>\n",
       "      <td>USM97 Comdty</td>\n",
       "      <td>0.188539</td>\n",
       "      <td>0.677024</td>\n",
       "      <td>0.889069</td>\n",
       "      <td>0.172883</td>\n",
       "      <td>0.122178</td>\n",
       "      <td>0.761967</td>\n",
       "      <td>0.159114</td>\n",
       "      <td>0.967726</td>\n",
       "      <td>0.087070</td>\n",
       "      <td>True</td>\n",
       "    </tr>\n",
       "    <tr>\n",
       "      <th>899</th>\n",
       "      <td>900</td>\n",
       "      <td>USU97 Comdty</td>\n",
       "      <td>1.000000</td>\n",
       "      <td>0.061972</td>\n",
       "      <td>0.644378</td>\n",
       "      <td>0.617578</td>\n",
       "      <td>0.701126</td>\n",
       "      <td>0.147354</td>\n",
       "      <td>1.000000</td>\n",
       "      <td>0.697771</td>\n",
       "      <td>0.174949</td>\n",
       "      <td>True</td>\n",
       "    </tr>\n",
       "  </tbody>\n",
       "</table>\n",
       "<p>900 rows × 12 columns</p>\n",
       "</div>"
      ],
      "text/plain": [
       "     rowindex      contract  price_crossing  price_distortion  roll_start  \\\n",
       "0           1  TUZ92 Comdty        0.157659          0.900783    0.016053   \n",
       "1           2  TUH93 Comdty        0.018588          1.000000    1.000000   \n",
       "2           3  TUM93 Comdty        0.035755          0.045987    0.673543   \n",
       "3           4  TUU93 Comdty        0.663832          1.000000    0.063057   \n",
       "4           5  TUZ93 Comdty        0.109678          0.113601    0.726244   \n",
       "..        ...           ...             ...               ...         ...   \n",
       "895       896  USU96 Comdty        0.850482          0.106219    1.000000   \n",
       "896       897  USZ96 Comdty        1.000000          0.048638    0.193619   \n",
       "897       898  USH97 Comdty        0.914224          0.080241    1.000000   \n",
       "898       899  USM97 Comdty        0.188539          0.677024    0.889069   \n",
       "899       900  USU97 Comdty        1.000000          0.061972    0.644378   \n",
       "\n",
       "     roll_heart  near_minus_next  ctd_last_first  ctd1_percent  delivery_cost  \\\n",
       "0      1.000000         1.000000        0.902811      1.000000       0.010743   \n",
       "1      0.084724         0.778847        1.000000      0.136069       0.154116   \n",
       "2      1.000000         0.027689        0.067889      0.007696       0.034743   \n",
       "3      0.188899         0.064454        0.005742      0.166102       0.956668   \n",
       "4      1.000000         1.000000        1.000000      1.000000       0.105467   \n",
       "..          ...              ...             ...           ...            ...   \n",
       "895    1.000000         0.143183        0.039113      1.000000       0.942108   \n",
       "896    1.000000         0.889959        0.129162      0.137239       1.000000   \n",
       "897    0.000310         0.010017        0.095047      1.000000       0.179392   \n",
       "898    0.172883         0.122178        0.761967      0.159114       0.967726   \n",
       "899    0.617578         0.701126        0.147354      1.000000       0.697771   \n",
       "\n",
       "     delivery_ratio  squeeze  \n",
       "0          0.099313     True  \n",
       "1          1.000000    False  \n",
       "2          0.171676    False  \n",
       "3          1.000000     True  \n",
       "4          0.145025    False  \n",
       "..              ...      ...  \n",
       "895        0.879261    False  \n",
       "896        1.000000    False  \n",
       "897        0.973741     True  \n",
       "898        0.087070     True  \n",
       "899        0.174949     True  \n",
       "\n",
       "[900 rows x 12 columns]"
      ]
     },
     "execution_count": 5,
     "metadata": {},
     "output_type": "execute_result"
    }
   ],
   "source": [
    "df = pd.read_csv('Treasury Squeeze raw score data.csv')\n",
    "df"
   ]
  },
  {
   "cell_type": "code",
   "execution_count": 6,
   "id": "b68370a4",
   "metadata": {},
   "outputs": [],
   "source": [
    "data=df.iloc[:,2:]"
   ]
  },
  {
   "cell_type": "code",
   "execution_count": 7,
   "id": "69ba8f95",
   "metadata": {},
   "outputs": [],
   "source": [
    "data['squeeze']=data['squeeze'].apply(lambda x: 1 if x==True else 0)"
   ]
  },
  {
   "cell_type": "code",
   "execution_count": 8,
   "id": "590a4a75",
   "metadata": {},
   "outputs": [],
   "source": [
    "X=data.iloc[:,:9]\n",
    "y=data.loc[:,'squeeze']"
   ]
  },
  {
   "cell_type": "code",
   "execution_count": 9,
   "id": "3b94d8d7",
   "metadata": {},
   "outputs": [
    {
     "data": {
      "text/html": [
       "<div>\n",
       "<style scoped>\n",
       "    .dataframe tbody tr th:only-of-type {\n",
       "        vertical-align: middle;\n",
       "    }\n",
       "\n",
       "    .dataframe tbody tr th {\n",
       "        vertical-align: top;\n",
       "    }\n",
       "\n",
       "    .dataframe thead th {\n",
       "        text-align: right;\n",
       "    }\n",
       "</style>\n",
       "<table border=\"1\" class=\"dataframe\">\n",
       "  <thead>\n",
       "    <tr style=\"text-align: right;\">\n",
       "      <th></th>\n",
       "      <th>price_crossing</th>\n",
       "      <th>price_distortion</th>\n",
       "      <th>roll_start</th>\n",
       "      <th>roll_heart</th>\n",
       "      <th>near_minus_next</th>\n",
       "      <th>ctd_last_first</th>\n",
       "      <th>ctd1_percent</th>\n",
       "      <th>delivery_cost</th>\n",
       "      <th>delivery_ratio</th>\n",
       "    </tr>\n",
       "  </thead>\n",
       "  <tbody>\n",
       "    <tr>\n",
       "      <th>0</th>\n",
       "      <td>0.157659</td>\n",
       "      <td>0.900783</td>\n",
       "      <td>0.016053</td>\n",
       "      <td>1.000000</td>\n",
       "      <td>1.000000</td>\n",
       "      <td>0.902811</td>\n",
       "      <td>1.000000</td>\n",
       "      <td>0.010743</td>\n",
       "      <td>0.099313</td>\n",
       "    </tr>\n",
       "    <tr>\n",
       "      <th>1</th>\n",
       "      <td>0.018588</td>\n",
       "      <td>1.000000</td>\n",
       "      <td>1.000000</td>\n",
       "      <td>0.084724</td>\n",
       "      <td>0.778847</td>\n",
       "      <td>1.000000</td>\n",
       "      <td>0.136069</td>\n",
       "      <td>0.154116</td>\n",
       "      <td>1.000000</td>\n",
       "    </tr>\n",
       "    <tr>\n",
       "      <th>2</th>\n",
       "      <td>0.035755</td>\n",
       "      <td>0.045987</td>\n",
       "      <td>0.673543</td>\n",
       "      <td>1.000000</td>\n",
       "      <td>0.027689</td>\n",
       "      <td>0.067889</td>\n",
       "      <td>0.007696</td>\n",
       "      <td>0.034743</td>\n",
       "      <td>0.171676</td>\n",
       "    </tr>\n",
       "    <tr>\n",
       "      <th>3</th>\n",
       "      <td>0.663832</td>\n",
       "      <td>1.000000</td>\n",
       "      <td>0.063057</td>\n",
       "      <td>0.188899</td>\n",
       "      <td>0.064454</td>\n",
       "      <td>0.005742</td>\n",
       "      <td>0.166102</td>\n",
       "      <td>0.956668</td>\n",
       "      <td>1.000000</td>\n",
       "    </tr>\n",
       "    <tr>\n",
       "      <th>4</th>\n",
       "      <td>0.109678</td>\n",
       "      <td>0.113601</td>\n",
       "      <td>0.726244</td>\n",
       "      <td>1.000000</td>\n",
       "      <td>1.000000</td>\n",
       "      <td>1.000000</td>\n",
       "      <td>1.000000</td>\n",
       "      <td>0.105467</td>\n",
       "      <td>0.145025</td>\n",
       "    </tr>\n",
       "    <tr>\n",
       "      <th>...</th>\n",
       "      <td>...</td>\n",
       "      <td>...</td>\n",
       "      <td>...</td>\n",
       "      <td>...</td>\n",
       "      <td>...</td>\n",
       "      <td>...</td>\n",
       "      <td>...</td>\n",
       "      <td>...</td>\n",
       "      <td>...</td>\n",
       "    </tr>\n",
       "    <tr>\n",
       "      <th>895</th>\n",
       "      <td>0.850482</td>\n",
       "      <td>0.106219</td>\n",
       "      <td>1.000000</td>\n",
       "      <td>1.000000</td>\n",
       "      <td>0.143183</td>\n",
       "      <td>0.039113</td>\n",
       "      <td>1.000000</td>\n",
       "      <td>0.942108</td>\n",
       "      <td>0.879261</td>\n",
       "    </tr>\n",
       "    <tr>\n",
       "      <th>896</th>\n",
       "      <td>1.000000</td>\n",
       "      <td>0.048638</td>\n",
       "      <td>0.193619</td>\n",
       "      <td>1.000000</td>\n",
       "      <td>0.889959</td>\n",
       "      <td>0.129162</td>\n",
       "      <td>0.137239</td>\n",
       "      <td>1.000000</td>\n",
       "      <td>1.000000</td>\n",
       "    </tr>\n",
       "    <tr>\n",
       "      <th>897</th>\n",
       "      <td>0.914224</td>\n",
       "      <td>0.080241</td>\n",
       "      <td>1.000000</td>\n",
       "      <td>0.000310</td>\n",
       "      <td>0.010017</td>\n",
       "      <td>0.095047</td>\n",
       "      <td>1.000000</td>\n",
       "      <td>0.179392</td>\n",
       "      <td>0.973741</td>\n",
       "    </tr>\n",
       "    <tr>\n",
       "      <th>898</th>\n",
       "      <td>0.188539</td>\n",
       "      <td>0.677024</td>\n",
       "      <td>0.889069</td>\n",
       "      <td>0.172883</td>\n",
       "      <td>0.122178</td>\n",
       "      <td>0.761967</td>\n",
       "      <td>0.159114</td>\n",
       "      <td>0.967726</td>\n",
       "      <td>0.087070</td>\n",
       "    </tr>\n",
       "    <tr>\n",
       "      <th>899</th>\n",
       "      <td>1.000000</td>\n",
       "      <td>0.061972</td>\n",
       "      <td>0.644378</td>\n",
       "      <td>0.617578</td>\n",
       "      <td>0.701126</td>\n",
       "      <td>0.147354</td>\n",
       "      <td>1.000000</td>\n",
       "      <td>0.697771</td>\n",
       "      <td>0.174949</td>\n",
       "    </tr>\n",
       "  </tbody>\n",
       "</table>\n",
       "<p>900 rows × 9 columns</p>\n",
       "</div>"
      ],
      "text/plain": [
       "     price_crossing  price_distortion  roll_start  roll_heart  \\\n",
       "0          0.157659          0.900783    0.016053    1.000000   \n",
       "1          0.018588          1.000000    1.000000    0.084724   \n",
       "2          0.035755          0.045987    0.673543    1.000000   \n",
       "3          0.663832          1.000000    0.063057    0.188899   \n",
       "4          0.109678          0.113601    0.726244    1.000000   \n",
       "..              ...               ...         ...         ...   \n",
       "895        0.850482          0.106219    1.000000    1.000000   \n",
       "896        1.000000          0.048638    0.193619    1.000000   \n",
       "897        0.914224          0.080241    1.000000    0.000310   \n",
       "898        0.188539          0.677024    0.889069    0.172883   \n",
       "899        1.000000          0.061972    0.644378    0.617578   \n",
       "\n",
       "     near_minus_next  ctd_last_first  ctd1_percent  delivery_cost  \\\n",
       "0           1.000000        0.902811      1.000000       0.010743   \n",
       "1           0.778847        1.000000      0.136069       0.154116   \n",
       "2           0.027689        0.067889      0.007696       0.034743   \n",
       "3           0.064454        0.005742      0.166102       0.956668   \n",
       "4           1.000000        1.000000      1.000000       0.105467   \n",
       "..               ...             ...           ...            ...   \n",
       "895         0.143183        0.039113      1.000000       0.942108   \n",
       "896         0.889959        0.129162      0.137239       1.000000   \n",
       "897         0.010017        0.095047      1.000000       0.179392   \n",
       "898         0.122178        0.761967      0.159114       0.967726   \n",
       "899         0.701126        0.147354      1.000000       0.697771   \n",
       "\n",
       "     delivery_ratio  \n",
       "0          0.099313  \n",
       "1          1.000000  \n",
       "2          0.171676  \n",
       "3          1.000000  \n",
       "4          0.145025  \n",
       "..              ...  \n",
       "895        0.879261  \n",
       "896        1.000000  \n",
       "897        0.973741  \n",
       "898        0.087070  \n",
       "899        0.174949  \n",
       "\n",
       "[900 rows x 9 columns]"
      ]
     },
     "execution_count": 9,
     "metadata": {},
     "output_type": "execute_result"
    }
   ],
   "source": [
    "X"
   ]
  },
  {
   "cell_type": "code",
   "execution_count": 87,
   "id": "3086ee89",
   "metadata": {},
   "outputs": [],
   "source": [
    "from sklearn.preprocessing import StandardScaler\n",
    "from sklearn.metrics import accuracy_score,classification_report\n",
    "from sklearn.model_selection import train_test_split\n",
    "from sklearn.neighbors import KNeighborsClassifier"
   ]
  },
  {
   "cell_type": "code",
   "execution_count": 88,
   "id": "6c18efbc",
   "metadata": {},
   "outputs": [],
   "source": [
    "X_train,X_test,y_train,y_test=train_test_split(X,y,test_size = 0.20,random_state=42)"
   ]
  },
  {
   "cell_type": "code",
   "execution_count": 89,
   "id": "e8e9a0e5",
   "metadata": {},
   "outputs": [],
   "source": [
    "X_scaler = StandardScaler().fit(X_train)\n",
    "X_train = X_scaler.transform(X_train)\n",
    "X_test = X_scaler.transform(X_test)"
   ]
  },
  {
   "cell_type": "code",
   "execution_count": 90,
   "id": "b8849905",
   "metadata": {},
   "outputs": [],
   "source": [
    "knn=KNeighborsClassifier(n_neighbors=5,p=2,metric='minkowski')"
   ]
  },
  {
   "cell_type": "code",
   "execution_count": 91,
   "id": "2880115e",
   "metadata": {},
   "outputs": [
    {
     "data": {
      "text/html": [
       "<style>#sk-container-id-2 {color: black;background-color: white;}#sk-container-id-2 pre{padding: 0;}#sk-container-id-2 div.sk-toggleable {background-color: white;}#sk-container-id-2 label.sk-toggleable__label {cursor: pointer;display: block;width: 100%;margin-bottom: 0;padding: 0.3em;box-sizing: border-box;text-align: center;}#sk-container-id-2 label.sk-toggleable__label-arrow:before {content: \"▸\";float: left;margin-right: 0.25em;color: #696969;}#sk-container-id-2 label.sk-toggleable__label-arrow:hover:before {color: black;}#sk-container-id-2 div.sk-estimator:hover label.sk-toggleable__label-arrow:before {color: black;}#sk-container-id-2 div.sk-toggleable__content {max-height: 0;max-width: 0;overflow: hidden;text-align: left;background-color: #f0f8ff;}#sk-container-id-2 div.sk-toggleable__content pre {margin: 0.2em;color: black;border-radius: 0.25em;background-color: #f0f8ff;}#sk-container-id-2 input.sk-toggleable__control:checked~div.sk-toggleable__content {max-height: 200px;max-width: 100%;overflow: auto;}#sk-container-id-2 input.sk-toggleable__control:checked~label.sk-toggleable__label-arrow:before {content: \"▾\";}#sk-container-id-2 div.sk-estimator input.sk-toggleable__control:checked~label.sk-toggleable__label {background-color: #d4ebff;}#sk-container-id-2 div.sk-label input.sk-toggleable__control:checked~label.sk-toggleable__label {background-color: #d4ebff;}#sk-container-id-2 input.sk-hidden--visually {border: 0;clip: rect(1px 1px 1px 1px);clip: rect(1px, 1px, 1px, 1px);height: 1px;margin: -1px;overflow: hidden;padding: 0;position: absolute;width: 1px;}#sk-container-id-2 div.sk-estimator {font-family: monospace;background-color: #f0f8ff;border: 1px dotted black;border-radius: 0.25em;box-sizing: border-box;margin-bottom: 0.5em;}#sk-container-id-2 div.sk-estimator:hover {background-color: #d4ebff;}#sk-container-id-2 div.sk-parallel-item::after {content: \"\";width: 100%;border-bottom: 1px solid gray;flex-grow: 1;}#sk-container-id-2 div.sk-label:hover label.sk-toggleable__label {background-color: #d4ebff;}#sk-container-id-2 div.sk-serial::before {content: \"\";position: absolute;border-left: 1px solid gray;box-sizing: border-box;top: 0;bottom: 0;left: 50%;z-index: 0;}#sk-container-id-2 div.sk-serial {display: flex;flex-direction: column;align-items: center;background-color: white;padding-right: 0.2em;padding-left: 0.2em;position: relative;}#sk-container-id-2 div.sk-item {position: relative;z-index: 1;}#sk-container-id-2 div.sk-parallel {display: flex;align-items: stretch;justify-content: center;background-color: white;position: relative;}#sk-container-id-2 div.sk-item::before, #sk-container-id-2 div.sk-parallel-item::before {content: \"\";position: absolute;border-left: 1px solid gray;box-sizing: border-box;top: 0;bottom: 0;left: 50%;z-index: -1;}#sk-container-id-2 div.sk-parallel-item {display: flex;flex-direction: column;z-index: 1;position: relative;background-color: white;}#sk-container-id-2 div.sk-parallel-item:first-child::after {align-self: flex-end;width: 50%;}#sk-container-id-2 div.sk-parallel-item:last-child::after {align-self: flex-start;width: 50%;}#sk-container-id-2 div.sk-parallel-item:only-child::after {width: 0;}#sk-container-id-2 div.sk-dashed-wrapped {border: 1px dashed gray;margin: 0 0.4em 0.5em 0.4em;box-sizing: border-box;padding-bottom: 0.4em;background-color: white;}#sk-container-id-2 div.sk-label label {font-family: monospace;font-weight: bold;display: inline-block;line-height: 1.2em;}#sk-container-id-2 div.sk-label-container {text-align: center;}#sk-container-id-2 div.sk-container {/* jupyter's `normalize.less` sets `[hidden] { display: none; }` but bootstrap.min.css set `[hidden] { display: none !important; }` so we also need the `!important` here to be able to override the default hidden behavior on the sphinx rendered scikit-learn.org. See: https://github.com/scikit-learn/scikit-learn/issues/21755 */display: inline-block !important;position: relative;}#sk-container-id-2 div.sk-text-repr-fallback {display: none;}</style><div id=\"sk-container-id-2\" class=\"sk-top-container\"><div class=\"sk-text-repr-fallback\"><pre>KNeighborsClassifier()</pre><b>In a Jupyter environment, please rerun this cell to show the HTML representation or trust the notebook. <br />On GitHub, the HTML representation is unable to render, please try loading this page with nbviewer.org.</b></div><div class=\"sk-container\" hidden><div class=\"sk-item\"><div class=\"sk-estimator sk-toggleable\"><input class=\"sk-toggleable__control sk-hidden--visually\" id=\"sk-estimator-id-2\" type=\"checkbox\" checked><label for=\"sk-estimator-id-2\" class=\"sk-toggleable__label sk-toggleable__label-arrow\">KNeighborsClassifier</label><div class=\"sk-toggleable__content\"><pre>KNeighborsClassifier()</pre></div></div></div></div></div>"
      ],
      "text/plain": [
       "KNeighborsClassifier()"
      ]
     },
     "execution_count": 91,
     "metadata": {},
     "output_type": "execute_result"
    }
   ],
   "source": [
    "knn.fit(X_train, y_train)"
   ]
  },
  {
   "cell_type": "code",
   "execution_count": 92,
   "id": "474fdb4b",
   "metadata": {},
   "outputs": [],
   "source": [
    "y_test_pred=knn.predict(X_test)\n",
    "y_train_pred=knn.predict(X_train)"
   ]
  },
  {
   "cell_type": "code",
   "execution_count": 93,
   "id": "e0a03af2",
   "metadata": {},
   "outputs": [],
   "source": [
    "val_score=accuracy_score(y_train_pred,y_train)\n",
    "test_score=accuracy_score(y_test_pred,y_test)"
   ]
  },
  {
   "cell_type": "code",
   "execution_count": 94,
   "id": "d27fe7e8",
   "metadata": {},
   "outputs": [
    {
     "data": {
      "text/plain": [
       "0.7069444444444445"
      ]
     },
     "execution_count": 94,
     "metadata": {},
     "output_type": "execute_result"
    }
   ],
   "source": [
    "val_score"
   ]
  },
  {
   "cell_type": "code",
   "execution_count": 95,
   "id": "68e45d14",
   "metadata": {},
   "outputs": [
    {
     "data": {
      "text/plain": [
       "0.6055555555555555"
      ]
     },
     "execution_count": 95,
     "metadata": {},
     "output_type": "execute_result"
    }
   ],
   "source": [
    "test_score"
   ]
  },
  {
   "cell_type": "code",
   "execution_count": 96,
   "id": "bbb37781",
   "metadata": {},
   "outputs": [
    {
     "data": {
      "text/plain": [
       "0.7069444444444445"
      ]
     },
     "execution_count": 96,
     "metadata": {},
     "output_type": "execute_result"
    }
   ],
   "source": [
    "knn.score(X_train, y_train)"
   ]
  },
  {
   "cell_type": "code",
   "execution_count": 97,
   "id": "66d52e16",
   "metadata": {},
   "outputs": [
    {
     "data": {
      "text/plain": [
       "0.6055555555555555"
      ]
     },
     "execution_count": 97,
     "metadata": {},
     "output_type": "execute_result"
    }
   ],
   "source": [
    "knn.score(X_test, y_test)"
   ]
  },
  {
   "cell_type": "markdown",
   "id": "3364c673",
   "metadata": {},
   "source": [
    "Calculating for values of K till 30"
   ]
  },
  {
   "cell_type": "code",
   "execution_count": 38,
   "id": "3d017c2a",
   "metadata": {},
   "outputs": [],
   "source": [
    "k_values=np.arange(1,31)"
   ]
  },
  {
   "cell_type": "code",
   "execution_count": 39,
   "id": "27e828d9",
   "metadata": {},
   "outputs": [
    {
     "data": {
      "text/plain": [
       "array([ 1,  2,  3,  4,  5,  6,  7,  8,  9, 10, 11, 12, 13, 14, 15, 16, 17,\n",
       "       18, 19, 20, 21, 22, 23, 24, 25, 26, 27, 28, 29, 30])"
      ]
     },
     "execution_count": 39,
     "metadata": {},
     "output_type": "execute_result"
    }
   ],
   "source": [
    "k_values"
   ]
  },
  {
   "cell_type": "code",
   "execution_count": 70,
   "id": "de9b9a07",
   "metadata": {},
   "outputs": [],
   "source": [
    "def k_neighbours(k,p):\n",
    "    X_train,X_test,y_train,y_test=train_test_split(X,y,test_size = 0.25,random_state=42)\n",
    "    X_scaler = StandardScaler().fit(X_train)\n",
    "    X_train = X_scaler.transform(X_train)\n",
    "    X_test = X_scaler.transform(X_test)\n",
    "    knn=KNeighborsClassifier(n_neighbors=k,p=p,metric='minkowski')\n",
    "    knn.fit(X_train, y_train)\n",
    "    y_test_pred=knn.predict(X_test)\n",
    "    y_train_pred=knn.predict(X_train)\n",
    "    val_score=knn.score(X_train,y_train)\n",
    "    test_score=knn.score(X_test, y_test)\n",
    "    return val_score,test_score\n"
   ]
  },
  {
   "cell_type": "code",
   "execution_count": 73,
   "id": "9e8795d2",
   "metadata": {},
   "outputs": [],
   "source": [
    "test_scores=[]\n",
    "val_scores=[]\n",
    "for k in k_values:\n",
    "    val_score,test_score=k_neighbours(k,1)\n",
    "    test_scores.append(test_score)\n",
    "    val_scores.append(val_score)\n"
   ]
  },
  {
   "cell_type": "code",
   "execution_count": 80,
   "id": "890686a6",
   "metadata": {},
   "outputs": [
    {
     "data": {
      "image/png": "[encoded data removed]",
      "text/plain": [
       "<Figure size 640x480 with 1 Axes>"
      ]
     },
     "metadata": {},
     "output_type": "display_data"
    }
   ],
   "source": [
    "plt.plot(test_scores)\n",
    "plt.plot(val_scores)\n",
    "plt.title('k-neighbours test vs train set scores( manhattan distance)')\n",
    "plt.xlabel(\"k \")\n",
    "plt.ylabel('model score')\n",
    "plt.legend(['test','train'])\n",
    "plt.show()"
   ]
  },
  {
   "cell_type": "code",
   "execution_count": 100,
   "id": "1525803d",
   "metadata": {},
   "outputs": [
    {
     "data": {
      "text/plain": [
       "23"
      ]
     },
     "execution_count": 100,
     "metadata": {},
     "output_type": "execute_result"
    }
   ],
   "source": [
    "manhattan_max=max(test_scores)\n",
    "opt_k=test_scores.index(manhattan_max)+1\n",
    "opt_k"
   ]
  },
  {
   "cell_type": "code",
   "execution_count": 108,
   "id": "06fc3622",
   "metadata": {},
   "outputs": [
    {
     "data": {
      "text/plain": [
       "[0.6444444444444445,\n",
       " 0.6311111111111111,\n",
       " 0.6444444444444445,\n",
       " 0.6444444444444445,\n",
       " 0.6488888888888888,\n",
       " 0.6577777777777778,\n",
       " 0.6577777777777778,\n",
       " 0.6711111111111111,\n",
       " 0.6533333333333333,\n",
       " 0.68]"
      ]
     },
     "execution_count": 108,
     "metadata": {},
     "output_type": "execute_result"
    }
   ],
   "source": [
    "test_scores[opt_k-10:opt_k]"
   ]
  },
  {
   "cell_type": "markdown",
   "id": "e4f1cc39",
   "metadata": {},
   "source": [
    "Taking Manhattan Distance as parameter and looking the graph we get k as 23\n",
    "to avoid overfitting and observing that there's not significant improvement in accuracy with increase in k we can take a k of 21 as well "
   ]
  },
  {
   "cell_type": "code",
   "execution_count": 84,
   "id": "b0803a5a",
   "metadata": {},
   "outputs": [],
   "source": [
    "test_scores_=[]\n",
    "val_scores_=[]\n",
    "for k in k_values:\n",
    "    val_score,test_score=k_neighbours(k,2)\n",
    "    test_scores_.append(test_score)\n",
    "    val_scores_.append(val_score)\n",
    "\n"
   ]
  },
  {
   "cell_type": "code",
   "execution_count": 86,
   "id": "9bd695e5",
   "metadata": {},
   "outputs": [
    {
     "data": {
      "image/png": "[encoded data removed]",
      "text/plain": [
       "<Figure size 640x480 with 1 Axes>"
      ]
     },
     "metadata": {},
     "output_type": "display_data"
    }
   ],
   "source": [
    "plt.plot(test_scores_)\n",
    "plt.plot(val_scores_)\n",
    "plt.title('k-neighbours test vs train set scores(euclidean distance)')\n",
    "plt.xlabel(\"k \")\n",
    "plt.ylabel('model score')\n",
    "plt.legend(['test','train'])\n",
    "plt.show()\n"
   ]
  },
  {
   "cell_type": "code",
   "execution_count": 111,
   "id": "ab5aca8c",
   "metadata": {},
   "outputs": [
    {
     "data": {
      "text/plain": [
       "20"
      ]
     },
     "execution_count": 111,
     "metadata": {},
     "output_type": "execute_result"
    }
   ],
   "source": [
    "euclidean_max=max(test_scores_)\n",
    "opt_k_=test_scores_.index(euclidean_max)+1\n",
    "opt_k_"
   ]
  },
  {
   "cell_type": "code",
   "execution_count": 112,
   "id": "a105145f",
   "metadata": {},
   "outputs": [
    {
     "data": {
      "text/plain": [
       "[0.6355555555555555,\n",
       " 0.6311111111111111,\n",
       " 0.6488888888888888,\n",
       " 0.6444444444444445,\n",
       " 0.6311111111111111,\n",
       " 0.6444444444444445,\n",
       " 0.6444444444444445,\n",
       " 0.6488888888888888,\n",
       " 0.6577777777777778,\n",
       " 0.6577777777777778]"
      ]
     },
     "execution_count": 112,
     "metadata": {},
     "output_type": "execute_result"
    }
   ],
   "source": [
    "test_scores[opt_k_-10:opt_k_]"
   ]
  },
  {
   "cell_type": "markdown",
   "id": "37c7c3d9",
   "metadata": {},
   "source": [
    "Taking Euclidean Distance as parameter and looking the graph we get k as 20\n",
    "to avoid overfitting and observing that there's not significant improvement in accuracy with increase in k we can take a k of 13 as well."
   ]
  },
  {
   "cell_type": "code",
   "execution_count": 114,
   "id": "d991bd59",
   "metadata": {},
   "outputs": [
    {
     "name": "stdout",
     "output_type": "stream",
     "text": [
      "My name is Samanvay Malapally Sudhakara\n",
      "My NetID is: sm105\n",
      "I hereby certify that I have read the University policy on Academic Integrity and that I am not in violation.\n"
     ]
    }
   ],
   "source": [
    "print(\"My name is Samanvay Malapally Sudhakara\")\n",
    "print(\"My NetID is: sm105\")\n",
    "print(\"I hereby certify that I have read the University policy on Academic Integrity and that I am not in violation.\")\n",
    "      "
   ]
  }
 ],
 "metadata": {
  "kernelspec": {
   "display_name": "Python 3 (ipykernel)",
   "language": "python",
   "name": "python3"
  },
  "language_info": {
   "codemirror_mode": {
    "name": "ipython",
    "version": 3
   },
   "file_extension": ".py",
   "mimetype": "text/x-python",
   "name": "python",
   "nbconvert_exporter": "python",
   "pygments_lexer": "ipython3",
   "version": "3.9.15"
  }
 },
 "nbformat": 4,
 "nbformat_minor": 5
}
